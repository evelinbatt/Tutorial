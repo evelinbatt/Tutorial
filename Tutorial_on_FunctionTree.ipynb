{
 "cells": [
  {
   "cell_type": "code",
   "execution_count": 1,
   "metadata": {},
   "outputs": [],
   "source": [
    "# To import libraries that shall be used to run the code\n",
    "import numpy as np\n",
    "import matplotlib.pyplot as plt\n",
    "import vampyr3d as vp\n",
    "\n",
    "# Alters the lower bounds to -(2**min_scale) and the upper\n",
    "# bounds to +(2**min_scale)\n",
    "min_scale = -4\n",
    "\n",
    "# Precision of calculations up until defined decimal place\n",
    "prec = 1e-4\n",
    "\n",
    "\n",
    "# Multiplies de unit lengh and drags the lower bounds to \n",
    "# \"corner\"*\"unit length\"\n",
    "corner = [-1, -1, -1]\n",
    "boxes = [2, 2, 2]\n",
    "# Defines how large the calculation space will be\n",
    "world = vp.BoundingBox(min_scale, corner, boxes)\n",
    "\n",
    "\n",
    "# Number of basis functions\n",
    "order = 5\n",
    "# To select desired basis (LegendreBasis or InterpolatingBasis polynomials)\n",
    "basis = vp.InterpolatingBasis(order)\n",
    "# Uses defined variables to create the MultiResolutionAnalysis function \n",
    "MRA = vp.MultiResolutionAnalysis(world, basis, 25)\n",
    "\n",
    "\n",
    "# Defines a function in terms of its variables \n",
    "def f(x):\n",
    "# Saves algebric expression inside defined function f(x)\n",
    "    return x[0]**2"
   ]
  },
  {
   "cell_type": "code",
   "execution_count": null,
   "metadata": {},
   "outputs": [],
   "source": []
  },
  {
   "cell_type": "code",
   "execution_count": null,
   "metadata": {},
   "outputs": [],
   "source": [
    "# Creates the Alpert, Beylkin, Gines, Vozovoi derivative operator called \"A\".\n",
    "A = vp.ABGVOperator(MRA, 0.0, 0.0)\n",
    "\n",
    "# Creates a derivative operator based on projection onto B-splines, a smoothingderivative operator, called \"B\". \n",
    "B = vp.BSOperator(MRA, 1)\n",
    "\n",
    "# Creates a convolution operator called \"H\" with the complex Helmholtz Green’s function kernel.\n",
    "H = vp.HelmholtzOperator(MRA, 0.0, 0.0)\n",
    "\n",
    "# Creates a convolution operator called \"I\" with a narrow Gaussian kernel, close to Dirac’s deltafunction.\n",
    "I = vp.IdentityConvolution(MRA, 0.0)\n",
    "\n",
    "# Creates a derivative operator called \"PH\" based on Pavel Holoborodko’s smoothing derivative.\n",
    "PH = vp.PHOperator(MRA, 1)\n",
    "\n",
    "# Creates a convolution operator with the Poisson Green’s function kernel called \"P\" that runs with defined precision.\n",
    "P = vp.PoissonOperator(MRA, prec)"
   ]
  },
  {
   "cell_type": "code",
   "execution_count": null,
   "metadata": {},
   "outputs": [],
   "source": [
    "# Creates a Function Tree called \"f_tree\" in MRA basis \n",
    "f_tree = vp.FunctionTree(MRA)\n",
    "\n",
    "# Creates a Function Tree called \"d_f_tree\" in MRA basis \n",
    "d_f_tree = vp.FunctionTree(MRA)\n",
    "\n",
    "# Defines Project: (precision defined \"prec\"; FunctionTree \"f_tree\"; function that will be inserted in f_tree \"f\")\n",
    "vp.project(prec, f_tree, f)\n",
    "\n",
    "# Applies designed operator (A, B, H, I, PH, P) on a FunctionTree; \n",
    "# (precision defined \"prec\"; output FunctionTree \"d_f_Tree\"; Poisson \n",
    "# operator \"P\"; FunctionTree in which the operator will be applied \"f_Tree\")\n",
    "vp.apply(prec, d_f_tree, P, f_tree)"
   ]
  },
  {
   "cell_type": "code",
   "execution_count": null,
   "metadata": {},
   "outputs": [],
   "source": [
    "# To evaluate the FunctionTree in a given point [0.0, 0.0, 0.0]\n",
    "d_f_tree.evalf([0.0, 0.0, 0.0])"
   ]
  },
  {
   "cell_type": "code",
   "execution_count": null,
   "metadata": {},
   "outputs": [],
   "source": [
    "# Clears the FunctionTree\n",
    "d_f_tree.clear()"
   ]
  },
  {
   "cell_type": "code",
   "execution_count": null,
   "metadata": {
    "scrolled": true
   },
   "outputs": [],
   "source": [
    "# Integral of the FunctionTree over all space\n",
    "d_f_tree.integrate()"
   ]
  },
  {
   "cell_type": "code",
   "execution_count": null,
   "metadata": {},
   "outputs": [],
   "source": [
    "# Rescales the function by its norm, fixed grid\n",
    "d_f_tree.normalize()"
   ]
  },
  {
   "cell_type": "code",
   "execution_count": null,
   "metadata": {},
   "outputs": [],
   "source": [
    "# Returns the ending wavelength values\n",
    "d_f_tree.getEndValues([0,0])"
   ]
  },
  {
   "cell_type": "code",
   "execution_count": null,
   "metadata": {},
   "outputs": [],
   "source": [
    "# Sets ending wavelength values\n",
    "d_f_tree.setEndValues([0,0])"
   ]
  },
  {
   "cell_type": "code",
   "execution_count": null,
   "metadata": {},
   "outputs": [],
   "source": [
    "# Saves tree to file\n",
    "# d_f_tree.saveTree(a)"
   ]
  },
  {
   "cell_type": "code",
   "execution_count": null,
   "metadata": {
    "scrolled": true
   },
   "outputs": [],
   "source": [
    "# Loads tree to file\n",
    "# d_f_tree.loadTree(a)"
   ]
  },
  {
   "cell_type": "code",
   "execution_count": null,
   "metadata": {},
   "outputs": [],
   "source": [
    "# Recurse down until an EndNode is found, and then crop children with high \n",
    "# precision\n",
    "b = 10\n",
    "d_f_tree.crop(5.0, 1.0, b<10)"
   ]
  },
  {
   "cell_type": "code",
   "execution_count": null,
   "metadata": {},
   "outputs": [],
   "source": [
    "# Multiply the function by a given number and it is multiplied by the function\n",
    "d_f_tree.multiply(2, d_f_tree)"
   ]
  },
  {
   "cell_type": "code",
   "execution_count": null,
   "metadata": {},
   "outputs": [],
   "source": [
    "# Multiply the function by a given number and adds it to the function\n",
    "d_f_tree.add(2, d_f_tree)"
   ]
  },
  {
   "cell_type": "code",
   "execution_count": null,
   "metadata": {},
   "outputs": [],
   "source": [
    "# Raise an existing function to a given power\n",
    "d_f_tree.power(2.0)"
   ]
  },
  {
   "cell_type": "code",
   "execution_count": null,
   "metadata": {},
   "outputs": [],
   "source": [
    "# Multiply an existing function with itself\n",
    "d_f_tree.square()"
   ]
  },
  {
   "cell_type": "code",
   "execution_count": null,
   "metadata": {},
   "outputs": [],
   "source": [
    "# Rescales the function\n",
    "d_f_tree.rescale(0.9)"
   ]
  },
  {
   "cell_type": "code",
   "execution_count": null,
   "metadata": {},
   "outputs": [],
   "source": [
    "# Get number of chunks\n",
    "d_f_tree.getNChunks()"
   ]
  },
  {
   "cell_type": "code",
   "execution_count": null,
   "metadata": {},
   "outputs": [],
   "source": [
    "# Write size of tree\n",
    "d_f_tree.getNChunksUsed()"
   ]
  },
  {
   "cell_type": "code",
   "execution_count": null,
   "metadata": {},
   "outputs": [],
   "source": [
    "# Print Serial Indices\n",
    "d_f_tree.printSerialIndices()"
   ]
  },
  {
   "cell_type": "code",
   "execution_count": null,
   "metadata": {},
   "outputs": [],
   "source": []
  },
  {
   "cell_type": "code",
   "execution_count": null,
   "metadata": {},
   "outputs": [],
   "source": []
  },
  {
   "cell_type": "code",
   "execution_count": null,
   "metadata": {},
   "outputs": [],
   "source": []
  },
  {
   "cell_type": "code",
   "execution_count": null,
   "metadata": {},
   "outputs": [],
   "source": [
    "help(vp.FunctionTree.printSerialIndices)"
   ]
  },
  {
   "cell_type": "code",
   "execution_count": null,
   "metadata": {},
   "outputs": [],
   "source": []
  }
 ],
 "metadata": {
  "kernelspec": {
   "display_name": "Python 3",
   "language": "python",
   "name": "python3"
  },
  "language_info": {
   "codemirror_mode": {
    "name": "ipython",
    "version": 3
   },
   "file_extension": ".py",
   "mimetype": "text/x-python",
   "name": "python",
   "nbconvert_exporter": "python",
   "pygments_lexer": "ipython3",
   "version": "3.7.0"
  }
 },
 "nbformat": 4,
 "nbformat_minor": 2
}
