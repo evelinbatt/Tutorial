{
 "cells": [
  {
   "cell_type": "markdown",
   "metadata": {},
   "source": [
    "# FunctionTree tutorial: using VAMPyR to run calculations\n",
    "##### *Path described for Linux Subsystem on Windows 10 software\n",
    "\n"
   ]
  },
  {
   "cell_type": "markdown",
   "metadata": {},
   "source": [
    "## Installation of VAMPyR: \n",
    "\n",
    "- On Ubuntu terminal, type:\n",
    "\n",
    "        ~ git clone https://github.com/MRChemSoft/vampyr.git\n",
    "        ~ cd vampyr\n",
    "        ~ ./setup\n",
    "        ~ cd build\n",
    "        ~ make"
   ]
  },
  {
   "cell_type": "markdown",
   "metadata": {},
   "source": [
    "## Using VAMPyR through Jupyter Notebook:\n",
    "\n",
    "- Install Xming and execute it\n",
    "- On Ubuntu terminal, type:\n",
    "\n",
    "        ~ export DISPLAY=:0\n",
    "        ~ jupyter notebook"
   ]
  },
  {
   "cell_type": "markdown",
   "metadata": {},
   "source": [
    "## Steps on using VAMPyR's FunctionTree:\n",
    "\n",
    "    1. Importing libraries that shall be used to run the code \n",
    "    2. Defining calculation's basis parameters\n",
    "    3. Choose and create mathematic operator \n",
    "    4. Creating FunctionTree and applying operator\n",
    "    5. FunctionTree's functions"
   ]
  },
  {
   "cell_type": "markdown",
   "metadata": {},
   "source": [
    "### 1. Importing libraries that shall be used to run the code \n",
    "\n",
    "In this example, VAMPyR is imported as \"vp\" "
   ]
  },
  {
   "cell_type": "code",
   "execution_count": 1,
   "metadata": {},
   "outputs": [],
   "source": [
    "import vampyr3d as vp\n",
    "import numpy as np\n",
    "import matplotlib.pyplot as plt"
   ]
  },
  {
   "cell_type": "markdown",
   "metadata": {},
   "source": [
    "### 2. Defining calculation's basis parameters\n",
    "\n",
    "For definitions and access to default input values, please visit the webpage:\n",
    "\n",
    "- https://mrchem.readthedocs.io/en/latest/mrchem_manual.html#top-section"
   ]
  },
  {
   "cell_type": "code",
   "execution_count": 2,
   "metadata": {},
   "outputs": [],
   "source": [
    "# Alters the lower bounds to -(2**min_scale) and the upper bounds to +(2**min_scale)\n",
    "min_scale = -4   \n",
    "# Precision of calculations up until defined decimal place\n",
    "prec = 1e-4\n",
    "\n",
    "# Multiplies de unit lengh and drags the lower bounds to \"corner\"*\"unit length\"\n",
    "corner = [-1, -1, -1]\n",
    "boxes = [2, 2, 2]\n",
    "# Defines how large the calculation space will be\n",
    "world = vp.BoundingBox(min_scale, corner, boxes)\n",
    "\n",
    "# Number of basis functions\n",
    "order = 5\n",
    "# To select desired basis (LegendreBasis or InterpolatingBasis polynomials)\n",
    "basis = vp.InterpolatingBasis(order)\n",
    "# Uses defined variables to create the MultiResolutionAnalysis function \n",
    "MRA = vp.MultiResolutionAnalysis(world, basis, 25)\n",
    "\n",
    "\n",
    "# Define the function to be calculated\n",
    "def f(x):\n",
    "    return x[0]**2"
   ]
  },
  {
   "cell_type": "markdown",
   "metadata": {},
   "source": [
    "### 3. Choose and create mathematic operator(s) \n",
    "\n",
    "To have it detailed how many and which arguments are required by each operator, please run the line:\n",
    "\n",
    "- help(vp.NAME_OF_OPERATOR)\n",
    "\n",
    "The following operators are currently implemented in VAMPyR:\n",
    "\n",
    "##### Convolution operators\n",
    "The convolution operators will adaptively build the output tree based on the chosen precision (note that there areseparate precision parameters for the construction and application of convolution operators)."
   ]
  },
  {
   "cell_type": "code",
   "execution_count": 3,
   "metadata": {},
   "outputs": [],
   "source": [
    "# Creates a convolution operator called \"IC\" with a narrow Gaussian kernel, close to Dirac’s deltafunction.\n",
    "IC = vp.IdentityConvolution(MRA, 0.01)\n",
    "\n",
    "# Creates a convolution operator with the Poisson Green’s function kernel called \"PO\" that runs with defined precision.\n",
    "PO = vp.PoissonOperator(MRA, prec)\n",
    "\n",
    "# Creates a convolution operator called \"HO\" with the complex Helmholtz Green’s function kernel.\n",
    "HO = vp.HelmholtzOperator(MRA, 0.0, prec)"
   ]
  },
  {
   "cell_type": "markdown",
   "metadata": {},
   "source": [
    "##### Derivative operators\n",
    "The derivatives operator have clearly defined requirements on the output grid structure, based on the grid of the inputfunction. This means that there is no real grid adaptivity, and thus no precision parameter is needed for the applicationof such an operator."
   ]
  },
  {
   "cell_type": "code",
   "execution_count": 4,
   "metadata": {},
   "outputs": [],
   "source": [
    "# Creates the Alpert, Beylkin, Gines, Vozovoi derivative operator called \"AO\".\n",
    "AO = vp.ABGVOperator(MRA, 0.1, 0.1)\n",
    "\n",
    "# Creates a derivative operator called \"PH\" based on Pavel Holoborodko’s smoothing derivative.\n",
    "PH = vp.PHOperator(MRA, 1)\n",
    "\n",
    "# Creates a derivative operator based on projection onto B-splines, a smoothingderivative operator, called \"BS\". \n",
    "BS = vp.BSOperator(MRA, 1)"
   ]
  },
  {
   "cell_type": "markdown",
   "metadata": {},
   "source": [
    "### 4. Creating FunctionTree and applying operator\n",
    "\n",
    "Depending on the type of operator chosen (Derivative or Convolution), the \"apply\" agurments should vary. Please run < help(vp.apply) > for more detailed instructions."
   ]
  },
  {
   "cell_type": "code",
   "execution_count": 5,
   "metadata": {},
   "outputs": [],
   "source": [
    "# Creates a Function Tree called \"f_tree\" in MRA basis \n",
    "f_tree = vp.FunctionTree(MRA)\n",
    "\n",
    "# Creates a Function Tree called \"d_f_tree\" in MRA basis \n",
    "d_f_tree = vp.FunctionTree(MRA)\n",
    "\n",
    "# Defines Project: (precision defined \"prec\"; FunctionTree \"f_tree\"; function that will be inserted in f_tree \"f\")\n",
    "vp.project(prec, f_tree, f)\n",
    "\n",
    "# Applies designed operator (IC, PO, HO, AO, PH, BS) on a FunctionTree; \n",
    "# (precision defined \"prec\"; output FunctionTree \"d_f_Tree\"; ABGVOperator \n",
    "# \"AO\"; FunctionTree in which the operator will be applied \"f_Tree\")\n",
    "vp.apply(prec, d_f_tree, IC, f_tree, 1)"
   ]
  },
  {
   "cell_type": "markdown",
   "metadata": {},
   "source": [
    "### 5. FunctionTree's functions\n",
    "\n",
    "To have it detailed which and how many arguments are required by each object, please run the line:\n",
    "\n",
    "- help(FunctionTree.NAME_OF_OBJECT)\n",
    "\n",
    "The following objects can be applied on FunctionTree function in order to compute specified evaluation;"
   ]
  },
  {
   "cell_type": "code",
   "execution_count": null,
   "metadata": {},
   "outputs": [],
   "source": [
    "# .evalf = Returns the function value in a given point. Possibly inaccurate, once only the scaling part of \n",
    "# the leaf nodes will be evaluated\n",
    "d_f_tree.evalf([0.0, 0.0, 0.0])\n",
    "\n",
    "# .clear = Clear MW coefficients and remove all grid refinement\n",
    "d_f_tree.clear()\n",
    "\n",
    "# .integrate = Returns the integral of the function over the entire computational domain.\n",
    "d_f_tree.integrate()\n",
    "\n",
    "# .normalize = Rescales the function by its norm\n",
    "d_f_tree.normalize()\n",
    "\n",
    "# .getEndValues = Returns the ending wavelength values\n",
    "d_f_tree.getEndValues([0,0])\n",
    "\n",
    "# .setEndValues = Sets ending wavelength values\n",
    "d_f_tree.setEndValues([0,0])\n",
    "\n",
    "# .saveTree = Saves tree to file\n",
    "d_f_tree.saveTree(a)\n",
    "\n",
    "# .loadTree = Loads tree to file\n",
    "d_f_tree.loadTree(a)\n",
    "\n",
    "# .crop = Truncate the wavelet expansion accoring to a new precision threshold\n",
    "b = 10\n",
    "d_f_tree.crop(5.0, 1.0, b<10)\n",
    "\n",
    "# .multiply = Multiply the function by a given number and it is multiplied by the function\n",
    "d_f_tree.multiply(2, d_f_tree)\n",
    "\n",
    "# .power = Raise an existing function to a given power\n",
    "d_f_tree.power(2.0)\n",
    "\n",
    "# .square = Multiply an existing function with itself\n",
    "d_f_tree.square()\n",
    "\n",
    "# .rescales = Multiply the function with a scalar, fixed grid\n",
    "d_f_tree.rescale(0.9)\n"
   ]
  },
  {
   "cell_type": "code",
   "execution_count": null,
   "metadata": {},
   "outputs": [],
   "source": [
    "help(vp.AnalyticFunction)"
   ]
  },
  {
   "cell_type": "code",
   "execution_count": null,
   "metadata": {},
   "outputs": [],
   "source": []
  }
 ],
 "metadata": {
  "kernelspec": {
   "display_name": "Python 3",
   "language": "python",
   "name": "python3"
  },
  "language_info": {
   "codemirror_mode": {
    "name": "ipython",
    "version": 3
   },
   "file_extension": ".py",
   "mimetype": "text/x-python",
   "name": "python",
   "nbconvert_exporter": "python",
   "pygments_lexer": "ipython3",
   "version": "3.7.0"
  }
 },
 "nbformat": 4,
 "nbformat_minor": 2
}
